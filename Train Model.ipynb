{
 "cells": [
  {
   "cell_type": "code",
   "execution_count": null,
   "metadata": {},
   "outputs": [],
   "source": [
    "from tensorflow.keras.layers import Dense, Flatten\n",
    "from tensorflow.keras.models import Sequential\n",
    "from tensorflow.keras.preprocessing.image import ImageDataGenerator\n",
    "from tensorflow.keras.applications import MobileNetV2\n",
    "from tensorflow.keras.applications.mobilenet import preprocess_input\n",
    "from tensorflow.keras.callbacks import ModelCheckpoint\n",
    "from os import path, walk\n",
    "import matplotlib.pyplot as plt"
   ]
  },
  {
   "cell_type": "code",
   "execution_count": null,
   "metadata": {},
   "outputs": [],
   "source": [
    "# Constants\n",
    "TRAIN_DIR = path.join('Dataset', 'Train')\n",
    "VAL_DIR = path.join('Dataset', 'Val')\n",
    "MODEL_DIR = path.join('ModelDir', 'MobileNetV2', 'TransferLearning')\n",
    "NUM_EPOCHS = 25"
   ]
  },
  {
   "cell_type": "code",
   "execution_count": null,
   "metadata": {},
   "outputs": [],
   "source": [
    "# Get the names of the classes\n",
    "class_names = []\n",
    "for subdir, dirs, files in walk(TRAIN_DIR):\n",
    "    try:\n",
    "        class_names.append(subdir.split('\\\\')[2])\n",
    "    except:\n",
    "        pass\n",
    "num_classes = len(class_names)\n",
    "class_names"
   ]
  },
  {
   "cell_type": "code",
   "execution_count": null,
   "metadata": {},
   "outputs": [],
   "source": [
    "# Create the model and create new last layer\n",
    "model = MobileNetV2(input_shape=(224, 224, 3), include_top=False)\n",
    "model.trainable = False\n",
    "model = Sequential([model, Flatten(), Dense(num_classes, activation='softmax', name=\"out\")])\n",
    "model.summary()"
   ]
  },
  {
   "cell_type": "code",
   "execution_count": null,
   "metadata": {},
   "outputs": [],
   "source": [
    "# Initialize the training and validation generators\n",
    "train_data_gen = ImageDataGenerator(preprocessing_function=preprocess_input,\n",
    "                                    shear_range=10, \n",
    "                                     horizontal_flip=True, \n",
    "                                     vertical_flip=True, \n",
    "                                     rotation_range=45, \n",
    "                                     brightness_range=[0.5,1],\n",
    "                                     channel_shift_range=50)\n",
    "\n",
    "train_generator = train_data_gen.flow_from_directory(TRAIN_DIR,\n",
    "                                                     target_size=(224,224),\n",
    "                                                     color_mode='rgb',\n",
    "                                                     batch_size=20,\n",
    "                                                     class_mode='categorical',\n",
    "                                                     shuffle=True)\n",
    "\n",
    "val_data_gen = ImageDataGenerator(preprocessing_function=preprocess_input)\n",
    "val_generator = val_data_gen.flow_from_directory(VAL_DIR,\n",
    "                                                     target_size=(224,224),\n",
    "                                                     color_mode='rgb',\n",
    "                                                     batch_size=20,\n",
    "                                                     class_mode='categorical',\n",
    "                                                     shuffle=True)"
   ]
  },
  {
   "cell_type": "code",
   "execution_count": null,
   "metadata": {},
   "outputs": [],
   "source": [
    "# For experimenting with image augmentation\n",
    "exp_gen = ImageDataGenerator()\n",
    "\n",
    "exp_gen = exp_gen.flow_from_directory(TRAIN_DIR,\n",
    "                                      color_mode='rgb',\n",
    "                                      batch_size=1,\n",
    "                                      class_mode='categorical',\n",
    "                                      shuffle=False)"
   ]
  },
  {
   "cell_type": "code",
   "execution_count": null,
   "metadata": {},
   "outputs": [],
   "source": [
    "img_arr = exp_gen.next()\n",
    "plt.imshow(img_arr[0][0]/255)"
   ]
  },
  {
   "cell_type": "code",
   "execution_count": null,
   "metadata": {},
   "outputs": [],
   "source": [
    "# Compile the model and the checkpoint to save only the best\n",
    "model.compile(optimizer='Adam', loss='categorical_crossentropy', metrics=['accuracy'])\n",
    "checkpoint = ModelCheckpoint(MODEL_DIR, monitor='val_accuracy', verbose=1, save_best_only=True, mode='max')"
   ]
  },
  {
   "cell_type": "code",
   "execution_count": null,
   "metadata": {},
   "outputs": [],
   "source": [
    "# Train the model and save only the best\n",
    "model.fit(train_generator, epochs=NUM_EPOCHS, validation_data=val_generator, callbacks=[checkpoint])"
   ]
  },
  {
   "cell_type": "code",
   "execution_count": null,
   "metadata": {},
   "outputs": [],
   "source": []
  }
 ],
 "metadata": {
  "kernelspec": {
   "display_name": "WhatCordEnv",
   "language": "python",
   "name": "whatcordenv"
  },
  "language_info": {
   "codemirror_mode": {
    "name": "ipython",
    "version": 3
   },
   "file_extension": ".py",
   "mimetype": "text/x-python",
   "name": "python",
   "nbconvert_exporter": "python",
   "pygments_lexer": "ipython3",
   "version": "3.7.6"
  }
 },
 "nbformat": 4,
 "nbformat_minor": 4
}
