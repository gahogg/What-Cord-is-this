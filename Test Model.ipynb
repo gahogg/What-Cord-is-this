{
 "cells": [
  {
   "cell_type": "code",
   "execution_count": 1,
   "metadata": {},
   "outputs": [],
   "source": [
    "# Imports\n",
    "from tensorflow.keras.preprocessing.image import ImageDataGenerator\n",
    "from tensorflow.keras.applications.mobilenet import preprocess_input\n",
    "from tensorflow.keras.models import load_model\n",
    "from os import path, walk\n",
    "from numpy import argmax"
   ]
  },
  {
   "cell_type": "code",
   "execution_count": 2,
   "metadata": {},
   "outputs": [],
   "source": [
    "# Constants\n",
    "TEST_DIR = path.join('Dataset', 'val')\n",
    "MODEL_DIR = path.join('ModelDir', 'MobileNetV2', 'TransferLearning')"
   ]
  },
  {
   "cell_type": "code",
   "execution_count": 3,
   "metadata": {},
   "outputs": [],
   "source": [
    "# Get the names of the classes\n",
    "class_names = []\n",
    "for subdir, dirs, files in walk(TEST_DIR):\n",
    "    try:\n",
    "        class_names.append(subdir.split('\\\\')[2])\n",
    "    except:\n",
    "        pass\n",
    "num_classes = len(class_names)"
   ]
  },
  {
   "cell_type": "code",
   "execution_count": 4,
   "metadata": {},
   "outputs": [
    {
     "data": {
      "text/plain": [
       "['3.5mm', 'Ethernet', 'HDMI', 'USB-A', 'Wall-Power']"
      ]
     },
     "execution_count": 4,
     "metadata": {},
     "output_type": "execute_result"
    }
   ],
   "source": [
    "class_names"
   ]
  },
  {
   "cell_type": "code",
   "execution_count": 5,
   "metadata": {},
   "outputs": [
    {
     "name": "stdout",
     "output_type": "stream",
     "text": [
      "Found 18 images belonging to 5 classes.\n"
     ]
    }
   ],
   "source": [
    "# Setup test data generator\n",
    "test_data_gen = ImageDataGenerator(preprocessing_function=preprocess_input)\n",
    "test_generator = test_data_gen.flow_from_directory(TEST_DIR,\n",
    "                                                     target_size=(224,224),\n",
    "                                                     color_mode='rgb',\n",
    "                                                     batch_size=1,\n",
    "                                                     class_mode='categorical',\n",
    "                                                     shuffle=False)"
   ]
  },
  {
   "cell_type": "code",
   "execution_count": 6,
   "metadata": {},
   "outputs": [
    {
     "name": "stdout",
     "output_type": "stream",
     "text": [
      "Model: \"sequential\"\n",
      "_________________________________________________________________\n",
      "Layer (type)                 Output Shape              Param #   \n",
      "=================================================================\n",
      "mobilenetv2_1.00_224 (Functi (None, 7, 7, 1280)        2257984   \n",
      "_________________________________________________________________\n",
      "flatten (Flatten)            (None, 62720)             0         \n",
      "_________________________________________________________________\n",
      "out (Dense)                  (None, 5)                 313605    \n",
      "=================================================================\n",
      "Total params: 2,571,589\n",
      "Trainable params: 2,537,477\n",
      "Non-trainable params: 34,112\n",
      "_________________________________________________________________\n"
     ]
    }
   ],
   "source": [
    "# Load the model\n",
    "model = load_model(MODEL_DIR)\n",
    "model.summary()"
   ]
  },
  {
   "cell_type": "code",
   "execution_count": 7,
   "metadata": {},
   "outputs": [],
   "source": [
    "# Get the predictions\n",
    "predictions = model.predict(test_generator)\n",
    "predictions = argmax(predictions, axis=1)"
   ]
  },
  {
   "cell_type": "code",
   "execution_count": 8,
   "metadata": {},
   "outputs": [],
   "source": [
    "# Convert predictions to class names\n",
    "prediction_names = [class_names[prediction_index] for prediction_index in predictions]"
   ]
  },
  {
   "cell_type": "code",
   "execution_count": 9,
   "metadata": {},
   "outputs": [],
   "source": [
    "# Get the names of the files\n",
    "file_names = test_generator.filenames"
   ]
  },
  {
   "cell_type": "code",
   "execution_count": 10,
   "metadata": {},
   "outputs": [
    {
     "data": {
      "text/plain": [
       "[('3.5mm\\\\IMG_20200805_130937.jpg', '3.5mm'),\n",
       " ('3.5mm\\\\IMG_20200805_150743.jpg', '3.5mm'),\n",
       " ('3.5mm\\\\IMG_20200805_150747.jpg', '3.5mm'),\n",
       " ('Ethernet\\\\IMG_20200805_150512.jpg', 'Ethernet'),\n",
       " ('Ethernet\\\\IMG_20200805_150514.jpg', 'Ethernet'),\n",
       " ('Ethernet\\\\IMG_20200805_150554.jpg', 'Ethernet'),\n",
       " ('HDMI\\\\IMG_20200805_150621.jpg', 'HDMI'),\n",
       " ('HDMI\\\\IMG_20200805_150708.jpg', 'HDMI'),\n",
       " ('USB-A\\\\IMG_20200805_120003.jpg', 'USB-A'),\n",
       " ('USB-A\\\\IMG_20200805_120340.jpg', '3.5mm'),\n",
       " ('USB-A\\\\IMG_20200805_120506.jpg', '3.5mm'),\n",
       " ('USB-A\\\\IMG_20200805_120935.jpg', 'USB-A'),\n",
       " ('USB-A\\\\IMG_20200805_130330.jpg', 'HDMI'),\n",
       " ('Wall-Power\\\\IMG_20200805_115821.jpg', 'Wall-Power'),\n",
       " ('Wall-Power\\\\IMG_20200805_115834.jpg', 'Wall-Power'),\n",
       " ('Wall-Power\\\\IMG_20200805_115900.jpg', 'Wall-Power'),\n",
       " ('Wall-Power\\\\IMG_20200805_120138.jpg', 'Wall-Power'),\n",
       " ('Wall-Power\\\\IMG_20200805_120441.jpg', 'Wall-Power')]"
      ]
     },
     "execution_count": 10,
     "metadata": {},
     "output_type": "execute_result"
    }
   ],
   "source": [
    "# Create array of (filename, prediction)\n",
    "correctness_lst = [(file_name, pred_name) for file_name, pred_name in zip(file_names, prediction_names)]\n",
    "correctness_lst"
   ]
  },
  {
   "cell_type": "code",
   "execution_count": null,
   "metadata": {},
   "outputs": [],
   "source": []
  }
 ],
 "metadata": {
  "kernelspec": {
   "display_name": "WhatCordEnv",
   "language": "python",
   "name": "whatcordenv"
  },
  "language_info": {
   "codemirror_mode": {
    "name": "ipython",
    "version": 3
   },
   "file_extension": ".py",
   "mimetype": "text/x-python",
   "name": "python",
   "nbconvert_exporter": "python",
   "pygments_lexer": "ipython3",
   "version": "3.7.6"
  }
 },
 "nbformat": 4,
 "nbformat_minor": 4
}
